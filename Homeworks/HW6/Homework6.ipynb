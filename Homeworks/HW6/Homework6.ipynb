{
 "cells": [
  {
   "cell_type": "markdown",
   "metadata": {
    "id": "-2W919d2ZXp7"
   },
   "source": [
    "# Homework 6: Mixed effects"
   ]
  },
  {
   "cell_type": "markdown",
   "metadata": {
    "id": "L4nOzVhyZXqK"
   },
   "source": [
    "This homework assignment is designed to give you practice fitting and interpreting mixed effects models. \n",
    "\n",
    "We will be using the **LexicalData.csv** and **Items.csv** files from the *Homework/lexDat* folder in the class GitHub repository again. \n",
    "\n",
    "This data is a subset of the [English Lexicon Project database](https://elexicon.wustl.edu/). It provides the reaction times (in milliseconds) of many subjects as they are presented with letter strings and asked to decide, as quickly and as accurately as possible, whether the letter string is a word or not. The **Items.csv** provides characteristics of the words used, namely frequency (how common is this word?) and length (how many letters?). Unlike in the previous homework, there isn't any missing data in the **LexicalData.csv** file. \n",
    "\n",
    "*Data courtesy of Balota, D.A., Yap, M.J., Cortese, M.J., Hutchison, K.A., Kessler, B., Loftis, B., Neely, J.H., Nelson, D.L., Simpson, G.B., & Treiman, R. (2007). The English Lexicon Project. Behavior Research Methods, 39, 445-459.*"
   ]
  },
  {
   "cell_type": "markdown",
   "metadata": {
    "id": "9DsyBTB6ZXqN"
   },
   "source": [
    "---\n",
    "## 1. Loading and formatting the data (1 point)\n",
    "\n",
    "Load in data from the **LexicalData.csv** and **Items.csv** files. As in the previous homeworks, remove the commas from the reaction times and convert them from strings to numbers. Use `left_join` to add word characteristics `Length` and `Log_Freq_Hal` from **Items** to **LexicalData**. \n",
    "\n",
    "*Note: the `Freq_HAL` variable in **Items.csv** has a similar formatting issue, using string values with commas. We're not going to worry about fixing this since we're only using `Log_Freq_HAL`, which is the natural log transformation of `Freq_HAL`, in this homework.*"
   ]
  },
  {
   "cell_type": "code",
   "execution_count": 27,
   "metadata": {
    "colab": {
     "base_uri": "https://localhost:8080/",
     "height": 283
    },
    "executionInfo": {
     "elapsed": 3646,
     "status": "ok",
     "timestamp": 1615941478718,
     "user": {
      "displayName": "Patience Stevens",
      "photoUrl": "https://lh3.googleusercontent.com/a-/AOh14Gi-_9ZqhIFhAv1oMehJNvNuIKSTyrFQHzjxQKhx=s64",
      "userId": "01994571539255174942"
     },
     "user_tz": 240
    },
    "id": "UnBVazYfZXqP",
    "outputId": "ac15e53d-db29-431a-cefe-c4a81bee3024"
   },
   "outputs": [
    {
     "data": {
      "text/html": [
       "'/Users/tim/Documents/GradSchool/Coursework/S22/85-732/nolan_DSPN_S22/Homeworks/HW6'"
      ],
      "text/latex": [
       "'/Users/tim/Documents/GradSchool/Coursework/S22/85-732/nolan\\_DSPN\\_S22/Homeworks/HW6'"
      ],
      "text/markdown": [
       "'/Users/tim/Documents/GradSchool/Coursework/S22/85-732/nolan_DSPN_S22/Homeworks/HW6'"
      ],
      "text/plain": [
       "[1] \"/Users/tim/Documents/GradSchool/Coursework/S22/85-732/nolan_DSPN_S22/Homeworks/HW6\""
      ]
     },
     "metadata": {},
     "output_type": "display_data"
    }
   ],
   "source": [
    "# WRITE YOUR CODE HERE\n",
    "getwd()"
   ]
  },
  {
   "cell_type": "code",
   "execution_count": 28,
   "metadata": {},
   "outputs": [
    {
     "data": {
      "text/html": [
       "<style>\n",
       ".list-inline {list-style: none; margin:0; padding: 0}\n",
       ".list-inline>li {display: inline-block}\n",
       ".list-inline>li:not(:last-child)::after {content: \"\\00b7\"; padding: 0 .5ex}\n",
       "</style>\n",
       "<ol class=list-inline><li>62610</li><li>7</li></ol>\n"
      ],
      "text/latex": [
       "\\begin{enumerate*}\n",
       "\\item 62610\n",
       "\\item 7\n",
       "\\end{enumerate*}\n"
      ],
      "text/markdown": [
       "1. 62610\n",
       "2. 7\n",
       "\n",
       "\n"
      ],
      "text/plain": [
       "[1] 62610     7"
      ]
     },
     "metadata": {},
     "output_type": "display_data"
    },
    {
     "data": {
      "text/html": [
       "<table class=\"dataframe\">\n",
       "<caption>A data.frame: 6 × 7</caption>\n",
       "<thead>\n",
       "\t<tr><th></th><th scope=col>Sub_ID</th><th scope=col>Trial</th><th scope=col>Type</th><th scope=col>D_RT</th><th scope=col>Word</th><th scope=col>Outlier</th><th scope=col>D_Zscore</th></tr>\n",
       "\t<tr><th></th><th scope=col>&lt;int&gt;</th><th scope=col>&lt;int&gt;</th><th scope=col>&lt;int&gt;</th><th scope=col>&lt;dbl&gt;</th><th scope=col>&lt;chr&gt;</th><th scope=col>&lt;chr&gt;</th><th scope=col>&lt;dbl&gt;</th></tr>\n",
       "</thead>\n",
       "<tbody>\n",
       "\t<tr><th scope=row>1</th><td>157</td><td>1</td><td>1</td><td> 710</td><td>browse     </td><td>false</td><td>-0.437</td></tr>\n",
       "\t<tr><th scope=row>2</th><td> 67</td><td>1</td><td>1</td><td>1094</td><td>refrigerant</td><td>false</td><td> 0.825</td></tr>\n",
       "\t<tr><th scope=row>3</th><td>120</td><td>1</td><td>1</td><td> 587</td><td>gaining    </td><td>false</td><td>-0.645</td></tr>\n",
       "\t<tr><th scope=row>4</th><td> 21</td><td>1</td><td>1</td><td> 984</td><td>cheerless  </td><td>false</td><td> 0.025</td></tr>\n",
       "\t<tr><th scope=row>5</th><td>236</td><td>1</td><td>1</td><td> 577</td><td>pattered   </td><td>false</td><td>-0.763</td></tr>\n",
       "\t<tr><th scope=row>6</th><td>236</td><td>2</td><td>1</td><td> 715</td><td>conjures   </td><td>false</td><td>-0.364</td></tr>\n",
       "</tbody>\n",
       "</table>\n"
      ],
      "text/latex": [
       "A data.frame: 6 × 7\n",
       "\\begin{tabular}{r|lllllll}\n",
       "  & Sub\\_ID & Trial & Type & D\\_RT & Word & Outlier & D\\_Zscore\\\\\n",
       "  & <int> & <int> & <int> & <dbl> & <chr> & <chr> & <dbl>\\\\\n",
       "\\hline\n",
       "\t1 & 157 & 1 & 1 &  710 & browse      & false & -0.437\\\\\n",
       "\t2 &  67 & 1 & 1 & 1094 & refrigerant & false &  0.825\\\\\n",
       "\t3 & 120 & 1 & 1 &  587 & gaining     & false & -0.645\\\\\n",
       "\t4 &  21 & 1 & 1 &  984 & cheerless   & false &  0.025\\\\\n",
       "\t5 & 236 & 1 & 1 &  577 & pattered    & false & -0.763\\\\\n",
       "\t6 & 236 & 2 & 1 &  715 & conjures    & false & -0.364\\\\\n",
       "\\end{tabular}\n"
      ],
      "text/markdown": [
       "\n",
       "A data.frame: 6 × 7\n",
       "\n",
       "| <!--/--> | Sub_ID &lt;int&gt; | Trial &lt;int&gt; | Type &lt;int&gt; | D_RT &lt;dbl&gt; | Word &lt;chr&gt; | Outlier &lt;chr&gt; | D_Zscore &lt;dbl&gt; |\n",
       "|---|---|---|---|---|---|---|---|\n",
       "| 1 | 157 | 1 | 1 |  710 | browse      | false | -0.437 |\n",
       "| 2 |  67 | 1 | 1 | 1094 | refrigerant | false |  0.825 |\n",
       "| 3 | 120 | 1 | 1 |  587 | gaining     | false | -0.645 |\n",
       "| 4 |  21 | 1 | 1 |  984 | cheerless   | false |  0.025 |\n",
       "| 5 | 236 | 1 | 1 |  577 | pattered    | false | -0.763 |\n",
       "| 6 | 236 | 2 | 1 |  715 | conjures    | false | -0.364 |\n",
       "\n"
      ],
      "text/plain": [
       "  Sub_ID Trial Type D_RT Word        Outlier D_Zscore\n",
       "1 157    1     1     710 browse      false   -0.437  \n",
       "2  67    1     1    1094 refrigerant false    0.825  \n",
       "3 120    1     1     587 gaining     false   -0.645  \n",
       "4  21    1     1     984 cheerless   false    0.025  \n",
       "5 236    1     1     577 pattered    false   -0.763  \n",
       "6 236    2     1     715 conjures    false   -0.364  "
      ]
     },
     "metadata": {},
     "output_type": "display_data"
    }
   ],
   "source": [
    "LexicalData <- read.csv(file = '../lexDat/LexicalData.csv')\n",
    "\n",
    "LexicalData$D_RT <- as.numeric(gsub(',','',LexicalData$D_RT))\n",
    "LexicalData <- rename(LexicalData, Word = D_Word)\n",
    "\n",
    "dim(LexicalData)\n",
    "head(LexicalData)"
   ]
  },
  {
   "cell_type": "code",
   "execution_count": 29,
   "metadata": {},
   "outputs": [
    {
     "data": {
      "text/html": [
       "<style>\n",
       ".list-inline {list-style: none; margin:0; padding: 0}\n",
       ".list-inline>li {display: inline-block}\n",
       ".list-inline>li:not(:last-child)::after {content: \"\\00b7\"; padding: 0 .5ex}\n",
       "</style>\n",
       "<ol class=list-inline><li>30959</li><li>3</li></ol>\n"
      ],
      "text/latex": [
       "\\begin{enumerate*}\n",
       "\\item 30959\n",
       "\\item 3\n",
       "\\end{enumerate*}\n"
      ],
      "text/markdown": [
       "1. 30959\n",
       "2. 3\n",
       "\n",
       "\n"
      ],
      "text/plain": [
       "[1] 30959     3"
      ]
     },
     "metadata": {},
     "output_type": "display_data"
    },
    {
     "data": {
      "text/html": [
       "<table class=\"dataframe\">\n",
       "<caption>A data.frame: 6 × 3</caption>\n",
       "<thead>\n",
       "\t<tr><th></th><th scope=col>Word</th><th scope=col>Length</th><th scope=col>Log_Freq_HAL</th></tr>\n",
       "\t<tr><th></th><th scope=col>&lt;chr&gt;</th><th scope=col>&lt;int&gt;</th><th scope=col>&lt;dbl&gt;</th></tr>\n",
       "</thead>\n",
       "<tbody>\n",
       "\t<tr><th scope=row>1</th><td>synergistic</td><td>11</td><td>5.649</td></tr>\n",
       "\t<tr><th scope=row>2</th><td>synonymous </td><td>10</td><td>6.858</td></tr>\n",
       "\t<tr><th scope=row>3</th><td>syntactical</td><td>11</td><td>4.736</td></tr>\n",
       "\t<tr><th scope=row>4</th><td>synthesis  </td><td> 9</td><td>8.816</td></tr>\n",
       "\t<tr><th scope=row>5</th><td>synthesized</td><td>11</td><td>7.904</td></tr>\n",
       "\t<tr><th scope=row>6</th><td>synthesizer</td><td>11</td><td>7.237</td></tr>\n",
       "</tbody>\n",
       "</table>\n"
      ],
      "text/latex": [
       "A data.frame: 6 × 3\n",
       "\\begin{tabular}{r|lll}\n",
       "  & Word & Length & Log\\_Freq\\_HAL\\\\\n",
       "  & <chr> & <int> & <dbl>\\\\\n",
       "\\hline\n",
       "\t1 & synergistic & 11 & 5.649\\\\\n",
       "\t2 & synonymous  & 10 & 6.858\\\\\n",
       "\t3 & syntactical & 11 & 4.736\\\\\n",
       "\t4 & synthesis   &  9 & 8.816\\\\\n",
       "\t5 & synthesized & 11 & 7.904\\\\\n",
       "\t6 & synthesizer & 11 & 7.237\\\\\n",
       "\\end{tabular}\n"
      ],
      "text/markdown": [
       "\n",
       "A data.frame: 6 × 3\n",
       "\n",
       "| <!--/--> | Word &lt;chr&gt; | Length &lt;int&gt; | Log_Freq_HAL &lt;dbl&gt; |\n",
       "|---|---|---|---|\n",
       "| 1 | synergistic | 11 | 5.649 |\n",
       "| 2 | synonymous  | 10 | 6.858 |\n",
       "| 3 | syntactical | 11 | 4.736 |\n",
       "| 4 | synthesis   |  9 | 8.816 |\n",
       "| 5 | synthesized | 11 | 7.904 |\n",
       "| 6 | synthesizer | 11 | 7.237 |\n",
       "\n"
      ],
      "text/plain": [
       "  Word        Length Log_Freq_HAL\n",
       "1 synergistic 11     5.649       \n",
       "2 synonymous  10     6.858       \n",
       "3 syntactical 11     4.736       \n",
       "4 synthesis    9     8.816       \n",
       "5 synthesized 11     7.904       \n",
       "6 synthesizer 11     7.237       "
      ]
     },
     "metadata": {},
     "output_type": "display_data"
    }
   ],
   "source": [
    "Items <- read.csv(file = '../lexDat/Items.csv')\n",
    "\n",
    "keeps <- c(\"Word\",\"Length\",\"Log_Freq_HAL\")\n",
    "Items <- Items[keeps]\n",
    "\n",
    "dim(Items)\n",
    "head(Items)"
   ]
  },
  {
   "cell_type": "code",
   "execution_count": 30,
   "metadata": {},
   "outputs": [
    {
     "name": "stderr",
     "output_type": "stream",
     "text": [
      "\u001b[1m\u001b[22mJoining, by = \"Word\"\n"
     ]
    },
    {
     "data": {
      "text/html": [
       "<style>\n",
       ".list-inline {list-style: none; margin:0; padding: 0}\n",
       ".list-inline>li {display: inline-block}\n",
       ".list-inline>li:not(:last-child)::after {content: \"\\00b7\"; padding: 0 .5ex}\n",
       "</style>\n",
       "<ol class=list-inline><li>62610</li><li>9</li></ol>\n"
      ],
      "text/latex": [
       "\\begin{enumerate*}\n",
       "\\item 62610\n",
       "\\item 9\n",
       "\\end{enumerate*}\n"
      ],
      "text/markdown": [
       "1. 62610\n",
       "2. 9\n",
       "\n",
       "\n"
      ],
      "text/plain": [
       "[1] 62610     9"
      ]
     },
     "metadata": {},
     "output_type": "display_data"
    },
    {
     "data": {
      "text/html": [
       "<table class=\"dataframe\">\n",
       "<caption>A data.frame: 6 × 9</caption>\n",
       "<thead>\n",
       "\t<tr><th></th><th scope=col>Word</th><th scope=col>Length</th><th scope=col>Log_Freq_HAL</th><th scope=col>Sub_ID</th><th scope=col>Trial</th><th scope=col>Type</th><th scope=col>D_RT</th><th scope=col>Outlier</th><th scope=col>D_Zscore</th></tr>\n",
       "\t<tr><th></th><th scope=col>&lt;chr&gt;</th><th scope=col>&lt;int&gt;</th><th scope=col>&lt;dbl&gt;</th><th scope=col>&lt;int&gt;</th><th scope=col>&lt;int&gt;</th><th scope=col>&lt;int&gt;</th><th scope=col>&lt;dbl&gt;</th><th scope=col>&lt;chr&gt;</th><th scope=col>&lt;dbl&gt;</th></tr>\n",
       "</thead>\n",
       "<tbody>\n",
       "\t<tr><th scope=row>1</th><td>synergistic</td><td>11</td><td>5.649</td><td>148</td><td>449</td><td>1</td><td> 776</td><td>false</td><td>0.125</td></tr>\n",
       "\t<tr><th scope=row>2</th><td>synonymous </td><td>10</td><td>6.858</td><td> 20</td><td>146</td><td>1</td><td>1525</td><td>false</td><td>1.235</td></tr>\n",
       "\t<tr><th scope=row>3</th><td>syntactical</td><td>11</td><td>4.736</td><td>162</td><td> 47</td><td>1</td><td>1365</td><td>false</td><td>1.768</td></tr>\n",
       "\t<tr><th scope=row>4</th><td>synthesis  </td><td> 9</td><td>8.816</td><td>155</td><td> 93</td><td>1</td><td> 759</td><td>false</td><td>0.745</td></tr>\n",
       "\t<tr><th scope=row>5</th><td>synthesized</td><td>11</td><td>7.904</td><td> 94</td><td> 49</td><td>1</td><td>2850</td><td>false</td><td>4.134</td></tr>\n",
       "\t<tr><th scope=row>6</th><td>synthesizer</td><td>11</td><td>7.237</td><td>272</td><td>182</td><td>1</td><td>1966</td><td>false</td><td>2.699</td></tr>\n",
       "</tbody>\n",
       "</table>\n"
      ],
      "text/latex": [
       "A data.frame: 6 × 9\n",
       "\\begin{tabular}{r|lllllllll}\n",
       "  & Word & Length & Log\\_Freq\\_HAL & Sub\\_ID & Trial & Type & D\\_RT & Outlier & D\\_Zscore\\\\\n",
       "  & <chr> & <int> & <dbl> & <int> & <int> & <int> & <dbl> & <chr> & <dbl>\\\\\n",
       "\\hline\n",
       "\t1 & synergistic & 11 & 5.649 & 148 & 449 & 1 &  776 & false & 0.125\\\\\n",
       "\t2 & synonymous  & 10 & 6.858 &  20 & 146 & 1 & 1525 & false & 1.235\\\\\n",
       "\t3 & syntactical & 11 & 4.736 & 162 &  47 & 1 & 1365 & false & 1.768\\\\\n",
       "\t4 & synthesis   &  9 & 8.816 & 155 &  93 & 1 &  759 & false & 0.745\\\\\n",
       "\t5 & synthesized & 11 & 7.904 &  94 &  49 & 1 & 2850 & false & 4.134\\\\\n",
       "\t6 & synthesizer & 11 & 7.237 & 272 & 182 & 1 & 1966 & false & 2.699\\\\\n",
       "\\end{tabular}\n"
      ],
      "text/markdown": [
       "\n",
       "A data.frame: 6 × 9\n",
       "\n",
       "| <!--/--> | Word &lt;chr&gt; | Length &lt;int&gt; | Log_Freq_HAL &lt;dbl&gt; | Sub_ID &lt;int&gt; | Trial &lt;int&gt; | Type &lt;int&gt; | D_RT &lt;dbl&gt; | Outlier &lt;chr&gt; | D_Zscore &lt;dbl&gt; |\n",
       "|---|---|---|---|---|---|---|---|---|---|\n",
       "| 1 | synergistic | 11 | 5.649 | 148 | 449 | 1 |  776 | false | 0.125 |\n",
       "| 2 | synonymous  | 10 | 6.858 |  20 | 146 | 1 | 1525 | false | 1.235 |\n",
       "| 3 | syntactical | 11 | 4.736 | 162 |  47 | 1 | 1365 | false | 1.768 |\n",
       "| 4 | synthesis   |  9 | 8.816 | 155 |  93 | 1 |  759 | false | 0.745 |\n",
       "| 5 | synthesized | 11 | 7.904 |  94 |  49 | 1 | 2850 | false | 4.134 |\n",
       "| 6 | synthesizer | 11 | 7.237 | 272 | 182 | 1 | 1966 | false | 2.699 |\n",
       "\n"
      ],
      "text/plain": [
       "  Word        Length Log_Freq_HAL Sub_ID Trial Type D_RT Outlier D_Zscore\n",
       "1 synergistic 11     5.649        148    449   1     776 false   0.125   \n",
       "2 synonymous  10     6.858         20    146   1    1525 false   1.235   \n",
       "3 syntactical 11     4.736        162     47   1    1365 false   1.768   \n",
       "4 synthesis    9     8.816        155     93   1     759 false   0.745   \n",
       "5 synthesized 11     7.904         94     49   1    2850 false   4.134   \n",
       "6 synthesizer 11     7.237        272    182   1    1966 false   2.699   "
      ]
     },
     "metadata": {},
     "output_type": "display_data"
    }
   ],
   "source": [
    "library(tidyverse)\n",
    "\n",
    "LexicalData <- dplyr::left_join(Items,LexicalData)\n",
    "\n",
    "dim(LexicalData)\n",
    "head(LexicalData)"
   ]
  },
  {
   "cell_type": "markdown",
   "metadata": {
    "id": "bXy81Viishk1"
   },
   "source": [
    "---\n",
    "## 2. Model fitting (4 points)"
   ]
  },
  {
   "cell_type": "markdown",
   "metadata": {
    "id": "H7_gEgkbzFtU"
   },
   "source": [
    "First, fit a linear model with `Log_Freq_HAL` and `Length` as predictors, and `D_RT` as the output. Include an interaction term. Use `summary()` to look at the model output. "
   ]
  },
  {
   "cell_type": "code",
   "execution_count": 50,
   "metadata": {
    "colab": {
     "base_uri": "https://localhost:8080/",
     "height": 357
    },
    "executionInfo": {
     "elapsed": 218,
     "status": "ok",
     "timestamp": 1615950762843,
     "user": {
      "displayName": "Patience Stevens",
      "photoUrl": "https://lh3.googleusercontent.com/a-/AOh14Gi-_9ZqhIFhAv1oMehJNvNuIKSTyrFQHzjxQKhx=s64",
      "userId": "01994571539255174942"
     },
     "user_tz": 240
    },
    "id": "OIOIg-GRz4rN",
    "outputId": "34ebc9d5-f7dc-4bc0-bc4a-9ed6b8a38630"
   },
   "outputs": [
    {
     "data": {
      "text/plain": [
       "\n",
       "Call:\n",
       "lm(formula = D_RT ~ Log_Freq_HAL * Length, data = LexicalData)\n",
       "\n",
       "Residuals:\n",
       "     Min       1Q   Median       3Q      Max \n",
       "-1118.01  -205.23   -86.95    90.77  3147.07 \n",
       "\n",
       "Coefficients:\n",
       "                    Estimate Std. Error t value Pr(>|t|)    \n",
       "(Intercept)         610.1903    14.6678  41.601  < 2e-16 ***\n",
       "Log_Freq_HAL         -6.0239     1.9678  -3.061  0.00221 ** \n",
       "Length               47.7531     1.6368  29.175  < 2e-16 ***\n",
       "Log_Freq_HAL:Length  -2.9421     0.2348 -12.528  < 2e-16 ***\n",
       "---\n",
       "Signif. codes:  0 ‘***’ 0.001 ‘**’ 0.01 ‘*’ 0.05 ‘.’ 0.1 ‘ ’ 1\n",
       "\n",
       "Residual standard error: 359.1 on 62606 degrees of freedom\n",
       "Multiple R-squared:  0.09473,\tAdjusted R-squared:  0.09469 \n",
       "F-statistic:  2184 on 3 and 62606 DF,  p-value: < 2.2e-16\n"
      ]
     },
     "metadata": {},
     "output_type": "display_data"
    }
   ],
   "source": [
    "# WRITE YOUR CODE HERE\n",
    "\n",
    "lin_model <- lm(D_RT ~ Log_Freq_HAL * Length, data=LexicalData)\n",
    "\n",
    "summary(lin_model)"
   ]
  },
  {
   "cell_type": "markdown",
   "metadata": {},
   "source": [
    "Call:\n",
    "\n",
    "lm(formula = D_RT ~ Log_Freq_HAL * Length, data = LexicalData)\n",
    "\n",
    "Residuals:\n",
    "\n",
    "     Min       1Q   Median       3Q      Max \n",
    "     \n",
    "-1118.01  -205.23   -86.95    90.77  3147.07 \n",
    "\n",
    "Coefficients:\n",
    "                    Estimate Std. Error t value Pr(>|t|)    \n",
    "                    \n",
    "(Intercept)         610.1903    14.6678  41.601  < 2e-16 ***\n",
    "\n",
    "Log_Freq_HAL         -6.0239     1.9678  -3.061  0.00221 ** \n",
    "\n",
    "Length               47.7531     1.6368  29.175  < 2e-16 ***\n",
    "\n",
    "Log_Freq_HAL:Length  -2.9421     0.2348 -12.528  < 2e-16 ***\n",
    "\n",
    "Signif. codes:  0 ‘***’ 0.001 ‘**’ 0.01 ‘*’ 0.05 ‘.’ 0.1 ‘ ’ 1\n",
    "\n",
    "Residual standard error: 359.1 on 62606 degrees of freedom\n",
    "\n",
    "Multiple R-squared:  0.09473,\tAdjusted R-squared:  0.09469 \n",
    "\n",
    "F-statistic:  2184 on 3 and 62606 DF,  p-value: < 2.2e-16\n"
   ]
  },
  {
   "cell_type": "markdown",
   "metadata": {
    "id": "Pbeg_JrS3mwU"
   },
   "source": [
    "Now, install `lme4` using `install.packages()` and then load the library. "
   ]
  },
  {
   "cell_type": "code",
   "execution_count": 39,
   "metadata": {
    "colab": {
     "base_uri": "https://localhost:8080/"
    },
    "executionInfo": {
     "elapsed": 194755,
     "status": "ok",
     "timestamp": 1615942729586,
     "user": {
      "displayName": "Patience Stevens",
      "photoUrl": "https://lh3.googleusercontent.com/a-/AOh14Gi-_9ZqhIFhAv1oMehJNvNuIKSTyrFQHzjxQKhx=s64",
      "userId": "01994571539255174942"
     },
     "user_tz": 240
    },
    "id": "hFSnvvb_re2O",
    "outputId": "c834867c-929f-4792-ed8f-753f0b17d91a"
   },
   "outputs": [
    {
     "name": "stderr",
     "output_type": "stream",
     "text": [
      "Installing package into ‘/opt/homebrew/lib/R/4.1/site-library’\n",
      "(as ‘lib’ is unspecified)\n",
      "\n",
      "also installing the dependencies ‘minqa’, ‘nloptr’, ‘RcppEigen’\n",
      "\n",
      "\n"
     ]
    }
   ],
   "source": [
    "# WRITE YOUR CODE HERE\n",
    "install.packages(\"lme4\")"
   ]
  },
  {
   "cell_type": "code",
   "execution_count": 40,
   "metadata": {},
   "outputs": [
    {
     "name": "stderr",
     "output_type": "stream",
     "text": [
      "Loading required package: Matrix\n",
      "\n",
      "\n",
      "Attaching package: ‘Matrix’\n",
      "\n",
      "\n",
      "The following objects are masked from ‘package:tidyr’:\n",
      "\n",
      "    expand, pack, unpack\n",
      "\n",
      "\n"
     ]
    }
   ],
   "source": [
    "library(lme4)"
   ]
  },
  {
   "cell_type": "markdown",
   "metadata": {
    "id": "xZJns7xr41nW"
   },
   "source": [
    "Now fit a mixed effects model that includes the same predictors as the linear model above, as well as random intercepts for `Sub_ID` (i.e., cases where subject ID shifts the RT mean). Use `summary()` to look at the model output. "
   ]
  },
  {
   "cell_type": "code",
   "execution_count": 49,
   "metadata": {
    "colab": {
     "base_uri": "https://localhost:8080/",
     "height": 493
    },
    "executionInfo": {
     "elapsed": 899,
     "status": "ok",
     "timestamp": 1615950778119,
     "user": {
      "displayName": "Patience Stevens",
      "photoUrl": "https://lh3.googleusercontent.com/a-/AOh14Gi-_9ZqhIFhAv1oMehJNvNuIKSTyrFQHzjxQKhx=s64",
      "userId": "01994571539255174942"
     },
     "user_tz": 240
    },
    "id": "8kjwT0je57N7",
    "outputId": "6f4974ab-621d-4608-f3bf-113735ede739"
   },
   "outputs": [
    {
     "data": {
      "text/plain": [
       "Linear mixed model fit by REML ['lmerMod']\n",
       "Formula: D_RT ~ Log_Freq_HAL * Length + (1 | Sub_ID)\n",
       "   Data: LexicalData\n",
       "\n",
       "REML criterion at convergence: 888235.6\n",
       "\n",
       "Scaled residuals: \n",
       "    Min      1Q  Median      3Q     Max \n",
       "-4.5058 -0.5472 -0.1568  0.3103 10.7381 \n",
       "\n",
       "Random effects:\n",
       " Groups   Name        Variance Std.Dev.\n",
       " Sub_ID   (Intercept) 46333    215.3   \n",
       " Residual             82978    288.1   \n",
       "Number of obs: 62610, groups:  Sub_ID, 299\n",
       "\n",
       "Fixed effects:\n",
       "                    Estimate Std. Error t value\n",
       "(Intercept)         616.8445    17.1522  35.963\n",
       "Log_Freq_HAL         -7.4374     1.5830  -4.698\n",
       "Length               47.7477     1.3162  36.277\n",
       "Log_Freq_HAL:Length  -2.8778     0.1888 -15.239\n",
       "\n",
       "Correlation of Fixed Effects:\n",
       "            (Intr) Lg_F_HAL Length\n",
       "Log_Frq_HAL -0.645                \n",
       "Length      -0.656  0.917         \n",
       "Lg_Fr_HAL:L  0.582 -0.942   -0.923"
      ]
     },
     "metadata": {},
     "output_type": "display_data"
    }
   ],
   "source": [
    "# WRITE YOUR CODE HERE\n",
    "\n",
    "me_model <- lmer(D_RT ~ Log_Freq_HAL * Length + (1 | Sub_ID), data=LexicalData)\n",
    "\n",
    "summary(me_model)"
   ]
  },
  {
   "cell_type": "markdown",
   "metadata": {},
   "source": [
    "Linear mixed model fit by REML ['lmerMod']\n",
    "\n",
    "Formula: D_RT ~ Log_Freq_HAL * Length + (1 | Sub_ID)\n",
    "\n",
    "   Data: LexicalData\n",
    "\n",
    "REML criterion at convergence: 888235.6\n",
    "\n",
    "Scaled residuals: \n",
    "\n",
    "    Min      1Q  Median      3Q     Max \n",
    "    \n",
    "-4.5058 -0.5472 -0.1568  0.3103 10.7381 \n",
    "\n",
    "\n",
    "Random effects:\n",
    "\n",
    " Groups   Name        Variance Std.Dev.\n",
    " \n",
    " Sub_ID   (Intercept) 46333    215.3   \n",
    " \n",
    " Residual             82978    288.1   \n",
    " \n",
    "Number of obs: 62610, groups:  Sub_ID, 299\n",
    "\n",
    "Fixed effects:\n",
    "\n",
    "                    Estimate Std. Error t value\n",
    "                    \n",
    "(Intercept)         616.8445    17.1522  35.963\n",
    "\n",
    "Log_Freq_HAL         -7.4374     1.5830  -4.698\n",
    "\n",
    "Length               47.7477     1.3162  36.277\n",
    "\n",
    "Log_Freq_HAL:Length  -2.8778     0.1888 -15.239\n",
    "\n",
    "Correlation of Fixed Effects:\n",
    "\n",
    "            (Intr) Lg_F_HAL Length\n",
    "            \n",
    "Log_Frq_HAL -0.645                \n",
    "\n",
    "Length      -0.656  0.917         \n",
    "\n",
    "Lg_Fr_HAL:L  0.582 -0.942   -0.923"
   ]
  },
  {
   "cell_type": "markdown",
   "metadata": {
    "id": "Vfb_ovk7JFGt"
   },
   "source": [
    "---\n",
    "## 3. Model assessment (4 points)"
   ]
  },
  {
   "cell_type": "markdown",
   "metadata": {
    "id": "r7B1Ux6RHGjy"
   },
   "source": [
    "Compare the three t-values for the fixed effects and the mixed effects models. How do they differ, and why? "
   ]
  },
  {
   "cell_type": "markdown",
   "metadata": {
    "id": "kCi5gYOeHo6m"
   },
   "source": [
    "For ease of comparison, here's a table of the t-values in question:\n",
    "\n",
    "| Coefficient         | t val, Linear Model | t val, Mixed Effect Model|\n",
    "| :---                |      ---:           |          ---:            |\n",
    "| (Intercept)         | 41.601              | 35.963                   |\n",
    "| Log_Freq_HAL        | -3.061              | -4.698                   |\n",
    "| Length              | 29.175              | 36.277                   |\n",
    "| Log_Freq_HAL:Length | -12.528             | -15.239                  |\n",
    "\n",
    "Let \"\\_LM\" denote \"Linear Model,\" and \"\\_ME\" denote \"Mixed Effect Model.\"\n",
    "\n",
    "First, for the intercept term, $t_{LM} > t_{ME}$, though both are very large. The null hypothesis for both models is $H_0 = 0$, which we reject in both cases.\n",
    "\n",
    "For all three fixed effects, $|t_{LM}| < |t_{ME}|$. Our t-value is further on the tails of the null distribution, and the corresponding mixed effects model yields a  regression with higher confidence across all of its fixed effects due to the introduction of the random subject ID effect correction. That is, the fit of the model has improved."
   ]
  },
  {
   "cell_type": "markdown",
   "metadata": {
    "id": "hukKG1AbGqXM"
   },
   "source": [
    "Use the Aikeke Information Criterion (AIC) to compare these two models. Which one is better? "
   ]
  },
  {
   "cell_type": "code",
   "execution_count": 44,
   "metadata": {
    "colab": {
     "base_uri": "https://localhost:8080/",
     "height": 159
    },
    "executionInfo": {
     "elapsed": 267,
     "status": "ok",
     "timestamp": 1615949607837,
     "user": {
      "displayName": "Patience Stevens",
      "photoUrl": "https://lh3.googleusercontent.com/a-/AOh14Gi-_9ZqhIFhAv1oMehJNvNuIKSTyrFQHzjxQKhx=s64",
      "userId": "01994571539255174942"
     },
     "user_tz": 240
    },
    "id": "KMDg8qb5FhJz",
    "outputId": "a148b06b-ec96-41e3-d13d-a439acbdf6d7"
   },
   "outputs": [
    {
     "data": {
      "text/html": [
       "914436.394428578"
      ],
      "text/latex": [
       "914436.394428578"
      ],
      "text/markdown": [
       "914436.394428578"
      ],
      "text/plain": [
       "[1] 914436.4"
      ]
     },
     "metadata": {},
     "output_type": "display_data"
    },
    {
     "data": {
      "text/html": [
       "888247.571057001"
      ],
      "text/latex": [
       "888247.571057001"
      ],
      "text/markdown": [
       "888247.571057001"
      ],
      "text/plain": [
       "[1] 888247.6"
      ]
     },
     "metadata": {},
     "output_type": "display_data"
    }
   ],
   "source": [
    "# WRITE YOUR CODE HERE\n",
    "AIC(lin_model)\n",
    "AIC(me_model)"
   ]
  },
  {
   "cell_type": "markdown",
   "metadata": {
    "id": "T4oTfsYmIvYt"
   },
   "source": [
    "The lower the AIC, the better. Thus, just as we came to the conclusion by looking at the test statistics above (i.e., classical Fisherian statistics framework), the mixed effects model is better than the pure linear model according to information theoretic fraework, too."
   ]
  },
  {
   "cell_type": "markdown",
   "metadata": {
    "id": "ARF2PF2yLXkZ"
   },
   "source": [
    "---\n",
    "##  4. Reflection (1 point)\n",
    "\n",
    "What other random effects could be controlled for in this data set? \n",
    "\n",
    "Assume that globally, there is no temporal change to the reaction time response as the experiment runs its course. That is, there's no habituation, priming, fatigue, and the subject maintains consistent effort throughout (whether or not these assumptions are reasonable are task-dependent). If the assumption were to hold true, you could also correct for Trial Number. None of the other columns of LexicalData.csv stand out to me as potential random effects."
   ]
  },
  {
   "cell_type": "markdown",
   "metadata": {
    "id": "C4MPECMmZXqe"
   },
   "source": [
    "**DUE:** 5pm EST, March 25, 2021"
   ]
  },
  {
   "cell_type": "markdown",
   "metadata": {
    "id": "r9GUofXN4BVy"
   },
   "source": [
    "**IMPORTANT** Did you collaborate with anyone on this assignment? If so, list their names here. \n",
    "> *Someone's Name*"
   ]
  }
 ],
 "metadata": {
  "colab": {
   "collapsed_sections": [],
   "name": "Homework6_solutions.ipynb",
   "provenance": []
  },
  "kernelspec": {
   "display_name": "R",
   "language": "R",
   "name": "ir"
  },
  "language_info": {
   "codemirror_mode": "r",
   "file_extension": ".r",
   "mimetype": "text/x-r-source",
   "name": "R",
   "pygments_lexer": "r",
   "version": "4.1.2"
  }
 },
 "nbformat": 4,
 "nbformat_minor": 1
}
