{
 "cells": [
  {
   "cell_type": "markdown",
   "metadata": {
    "id": "7vPK6QNQmBJx"
   },
   "source": [
    "# Homework 1: Github & Jupyter"
   ]
  },
  {
   "cell_type": "markdown",
   "metadata": {
    "id": "awY8UZ_NmBJ7"
   },
   "source": [
    "You first homework assignemnt is designed to get you setup and started with GitHub and Jupyter notebooks as discussed in your first recitation. \n",
    "\n",
    "For help with this assignment, see the Wiki on the [class Github repository](https://github.com/CoAxLab/DataSciencePsychNeuro_CMU85732/wiki), the tutorials for lectures 1 and 2, and the video titled \"00 - Accessing and submitting materials with GitHub\" on Canvas.\n",
    "\n",
    "    \n",
    "**Note:** This repository will be where you post your homeworks and other assignments throughout the semester."
   ]
  },
  {
   "cell_type": "markdown",
   "metadata": {
    "id": "-lSS1580mBJ8"
   },
   "source": [
    "---\n",
    "&nbsp; 1. Setup a GitHub account and create a new repository with the following name:\n",
    "\n",
    "   * <your\\_last\\_name>\\_DSPN\\_S22\n",
    "   * Add the users *coaxlab0* (that’s a zero at the end) and *asentis* as collaborators.\n"
   ]
  },
  {
   "cell_type": "markdown",
   "metadata": {
    "id": "3Q6Kbu3pmBJ-"
   },
   "source": [
    "&nbsp; 2. Clone the class repository locally on your computer"
   ]
  },
  {
   "cell_type": "markdown",
   "metadata": {
    "id": "kD51RpimmBJ_"
   },
   "source": [
    "&nbsp; 3. Install jupyter notebooks on your computer:\n",
    "\n",
    "   * Integrate with R (update R to version 3.4.3 or latest version)\n",
    "   * For help, go to the Wiki from the Class Github repository"
   ]
  },
  {
   "cell_type": "markdown",
   "metadata": {
    "id": "BLQKBFQimBKB"
   },
   "source": [
    "&nbsp; 4. Make a new Jupyter notebook titled: Homework1_HelloWorld.ipynb\n",
    "\n",
    "   * Make a single markdown text cell and type \"Hello World!\""
   ]
  },
  {
   "cell_type": "markdown",
   "metadata": {
    "id": "Bv8bBSOTmBKE"
   },
   "source": [
    "&nbsp; 5. Push your Jupyter notebook to the repository you made on Github."
   ]
  },
  {
   "cell_type": "markdown",
   "metadata": {
    "id": "bklyTlz6mBKG"
   },
   "source": [
    "&nbsp; 6. Email the TA and instructor a link to the notebook via Canvas. This is how we will turn in all homeworks this semester."
   ]
  },
  {
   "cell_type": "markdown",
   "metadata": {
    "id": "0MjkGt0xmBKH"
   },
   "source": [
    "**Due:** 5pm EST, Feb 1, 2022. "
   ]
  }
 ],
 "metadata": {
  "colab": {
   "name": "Homework1.ipynb",
   "provenance": []
  },
  "kernelspec": {
   "display_name": "R",
   "language": "R",
   "name": "ir"
  },
  "language_info": {
   "codemirror_mode": "r",
   "file_extension": ".r",
   "mimetype": "text/x-r-source",
   "name": "R",
   "pygments_lexer": "r",
   "version": "4.0.2"
  }
 },
 "nbformat": 4,
 "nbformat_minor": 1
}
